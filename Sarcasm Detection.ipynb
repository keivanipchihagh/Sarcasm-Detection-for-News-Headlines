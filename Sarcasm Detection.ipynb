{
 "cells": [
  {
   "cell_type": "markdown",
   "id": "closing-minnesota",
   "metadata": {},
   "source": [
    "# Sarcasm Detection for News Headlines"
   ]
  },
  {
   "cell_type": "markdown",
   "id": "instant-reproduction",
   "metadata": {},
   "source": [
    "## Imports"
   ]
  },
  {
   "cell_type": "code",
   "execution_count": 65,
   "id": "monetary-finnish",
   "metadata": {},
   "outputs": [],
   "source": [
    "import json\n",
    "import numpy as np\n",
    "import tensorflow as tf\n",
    "import keras\n",
    "from keras.preprocessing.text import Tokenizer\n",
    "from keras.preprocessing.sequence import pad_sequences\n",
    "from matplotlib import pyplot as plt"
   ]
  },
  {
   "cell_type": "markdown",
   "id": "specific-amateur",
   "metadata": {},
   "source": [
    "## Read News Data"
   ]
  },
  {
   "cell_type": "code",
   "execution_count": 66,
   "id": "graduate-protest",
   "metadata": {},
   "outputs": [
    {
     "name": "stdout",
     "output_type": "stream",
     "text": [
      "Data Sample: {'article_link': 'https://www.huffingtonpost.com/entry/versace-black-code_us_5861fbefe4b0de3a08f600d5', 'headline': \"former versace store clerk sues over secret 'black code' for minority shoppers\", 'is_sarcastic': 0}\n"
     ]
    }
   ],
   "source": [
    "with open(\"Datasets/sarcasm.json\", 'r') as f:\n",
    "    dataset = json.load(f)\n",
    "\n",
    "print('Data Sample:', data[0])"
   ]
  },
  {
   "cell_type": "markdown",
   "id": "medical-aurora",
   "metadata": {},
   "source": [
    "# Preprocessing the Data"
   ]
  },
  {
   "cell_type": "code",
   "execution_count": 67,
   "id": "streaming-company",
   "metadata": {},
   "outputs": [],
   "source": [
    "training_size = 20000\n",
    "vocab_size = 10000\n",
    "max_len = 100\n",
    "padding_type = 'post'\n",
    "truncating_type = 'post'\n",
    "embedding_dim = 16"
   ]
  },
  {
   "cell_type": "markdown",
   "id": "infectious-electricity",
   "metadata": {},
   "source": [
    "### Dividing the data"
   ]
  },
  {
   "cell_type": "code",
   "execution_count": 68,
   "id": "allied-defensive",
   "metadata": {},
   "outputs": [],
   "source": [
    "headlines = []\n",
    "labels = []\n",
    "\n",
    "for news in data:\n",
    "    headlines.append(news['headline'])\n",
    "    labels.append(news['is_sarcastic'])"
   ]
  },
  {
   "cell_type": "markdown",
   "id": "rural-mountain",
   "metadata": {},
   "source": [
    "### Spliting the data"
   ]
  },
  {
   "cell_type": "code",
   "execution_count": 69,
   "id": "australian-chorus",
   "metadata": {},
   "outputs": [],
   "source": [
    "training_data = headlines[:training_size]\n",
    "training_labels = labels[:training_size]\n",
    "\n",
    "testing_data = headlines[training_size:]\n",
    "testing_labels = labels[training_size:]"
   ]
  },
  {
   "cell_type": "markdown",
   "id": "moderate-alarm",
   "metadata": {},
   "source": [
    "### Tokenizing"
   ]
  },
  {
   "cell_type": "code",
   "execution_count": 70,
   "id": "assisted-number",
   "metadata": {},
   "outputs": [
    {
     "name": "stdout",
     "output_type": "stream",
     "text": [
      "[[328, 1, 799, 3405, 2404, 47, 389, 2214, 1, 6, 2614, 8863], [4, 6840, 3096, 3097, 23, 2, 161, 1, 390, 2842, 6, 251, 9, 889], [153, 890, 2, 891, 1445, 2215, 595, 5650, 221, 133, 36, 45, 2, 8864]]\n"
     ]
    }
   ],
   "source": [
    "# Create tokenizer object\n",
    "tokenizer = Tokenizer(num_words = vocab_size, oov_token = '<OOV>')\n",
    "\n",
    "# Create a word_index dictionary\n",
    "tokenizer.fit_on_texts(training_data)\n",
    "\n",
    "# Get word_index dictionary\n",
    "word_index = tokenizer.word_index\n",
    "\n",
    "# Tokenize and pad training data\n",
    "training_sequences = tokenizer.texts_to_sequences(training_data)\n",
    "training_data_padded = pad_sequences(training_sequences, maxlen = max_len, padding = padding_type, truncating = truncating_type)\n",
    "\n",
    "# Tokenize and pad testing data\n",
    "testing_sequences = tokenizer.texts_to_sequences(testing_data)\n",
    "testing_data_padded = pad_sequences(testing_sequences, maxlen = max_len, padding = padding_type, truncating = truncating_type)\n",
    "\n",
    "# Convert lists to tensors\n",
    "training_labels = np.array(training_labels)\n",
    "testing_labels = np.array(testing_labels)\n",
    "\n",
    "\n",
    "# Sequence sample\n",
    "print(training_sequences[:3])"
   ]
  },
  {
   "cell_type": "markdown",
   "id": "bored-music",
   "metadata": {},
   "source": [
    "## Build the Model"
   ]
  },
  {
   "cell_type": "code",
   "execution_count": 71,
   "id": "going-invasion",
   "metadata": {},
   "outputs": [
    {
     "name": "stdout",
     "output_type": "stream",
     "text": [
      "Model: \"sequential_3\"\n",
      "_________________________________________________________________\n",
      "Layer (type)                 Output Shape              Param #   \n",
      "=================================================================\n",
      "embedding_2 (Embedding)      (None, 100, 16)           160000    \n",
      "_________________________________________________________________\n",
      "global_average_pooling1d_2 ( (None, 16)                0         \n",
      "_________________________________________________________________\n",
      "dense_4 (Dense)              (None, 24)                408       \n",
      "_________________________________________________________________\n",
      "dense_5 (Dense)              (None, 1)                 25        \n",
      "=================================================================\n",
      "Total params: 160,433\n",
      "Trainable params: 160,433\n",
      "Non-trainable params: 0\n",
      "_________________________________________________________________\n"
     ]
    }
   ],
   "source": [
    "# Define model structure\n",
    "model = keras.models.Sequential()\n",
    "\n",
    "# Define Layers\n",
    "model.add(keras.layers.Embedding(vocab_size, embedding_dim, input_length = max_len))\n",
    "model.add(keras.layers.GlobalAveragePooling1D())\n",
    "model.add(keras.layers.Dense(units = 24, activation = 'relu'))\n",
    "model.add(keras.layers.Dense(units = 1, activation = 'sigmoid'))\n",
    "\n",
    "# Compile Model\n",
    "model.compile(loss = 'binary_crossentropy', optimizer = 'adam', metrics = ['accuracy'])\n",
    "\n",
    "# Model summary\n",
    "model.summary()"
   ]
  },
  {
   "cell_type": "markdown",
   "id": "working-tribute",
   "metadata": {},
   "source": [
    "## Fit the Model"
   ]
  },
  {
   "cell_type": "code",
   "execution_count": 72,
   "id": "logical-hometown",
   "metadata": {
    "scrolled": true
   },
   "outputs": [
    {
     "name": "stdout",
     "output_type": "stream",
     "text": [
      "Epoch 1/30\n",
      "625/625 [==============================] - 2s 2ms/step - loss: 0.6834 - accuracy: 0.5653 - val_loss: 0.6195 - val_accuracy: 0.7839\n",
      "Epoch 2/30\n",
      "625/625 [==============================] - 1s 2ms/step - loss: 0.5138 - accuracy: 0.7904 - val_loss: 0.3860 - val_accuracy: 0.8416\n",
      "Epoch 3/30\n",
      "625/625 [==============================] - 1s 2ms/step - loss: 0.3202 - accuracy: 0.8713 - val_loss: 0.3545 - val_accuracy: 0.8518oss: 0.3250 - accuracy: 0. - ETA: 0s - loss: 0.3234 - accu\n",
      "Epoch 4/30\n",
      "625/625 [==============================] - 1s 2ms/step - loss: 0.2611 - accuracy: 0.8988 - val_loss: 0.3477 - val_accuracy: 0.8505\n",
      "Epoch 5/30\n",
      "625/625 [==============================] - 1s 2ms/step - loss: 0.2250 - accuracy: 0.9153 - val_loss: 0.3462 - val_accuracy: 0.8532\n",
      "Epoch 6/30\n",
      "625/625 [==============================] - 1s 2ms/step - loss: 0.1949 - accuracy: 0.9267 - val_loss: 0.3823 - val_accuracy: 0.8422\n",
      "Epoch 7/30\n",
      "625/625 [==============================] - 1s 2ms/step - loss: 0.1734 - accuracy: 0.9357 - val_loss: 0.3687 - val_accuracy: 0.8515\n",
      "Epoch 8/30\n",
      "625/625 [==============================] - 1s 2ms/step - loss: 0.1557 - accuracy: 0.9430 - val_loss: 0.3776 - val_accuracy: 0.8547\n",
      "Epoch 9/30\n",
      "625/625 [==============================] - 1s 2ms/step - loss: 0.1370 - accuracy: 0.9494 - val_loss: 0.4241 - val_accuracy: 0.8396\n",
      "Epoch 10/30\n",
      "625/625 [==============================] - 1s 2ms/step - loss: 0.1234 - accuracy: 0.9571 - val_loss: 0.4190 - val_accuracy: 0.8499\n",
      "Epoch 11/30\n",
      "625/625 [==============================] - 1s 2ms/step - loss: 0.1132 - accuracy: 0.9611 - val_loss: 0.4615 - val_accuracy: 0.8386\n",
      "Epoch 12/30\n",
      "625/625 [==============================] - 1s 2ms/step - loss: 0.0983 - accuracy: 0.9668 - val_loss: 0.4794 - val_accuracy: 0.84020s - loss: 0.0915 -  - ETA: 0s - loss: 0.0960 - accura - ETA: 0s - loss: 0.0981 - accuracy: 0.96\n",
      "Epoch 13/30\n",
      "625/625 [==============================] - 1s 2ms/step - loss: 0.0943 - accuracy: 0.9683 - val_loss: 0.4910 - val_accuracy: 0.8438\n",
      "Epoch 14/30\n",
      "625/625 [==============================] - 1s 2ms/step - loss: 0.0895 - accuracy: 0.9725 - val_loss: 0.5410 - val_accuracy: 0.8354\n",
      "Epoch 15/30\n",
      "625/625 [==============================] - 1s 2ms/step - loss: 0.0750 - accuracy: 0.9739 - val_loss: 0.5524 - val_accuracy: 0.8390\n",
      "Epoch 16/30\n",
      "625/625 [==============================] - 1s 2ms/step - loss: 0.0702 - accuracy: 0.9774 - val_loss: 0.5809 - val_accuracy: 0.8375\n",
      "Epoch 17/30\n",
      "625/625 [==============================] - 1s 2ms/step - loss: 0.0681 - accuracy: 0.9773 - val_loss: 0.6144 - val_accuracy: 0.8346\n",
      "Epoch 18/30\n",
      "625/625 [==============================] - 1s 2ms/step - loss: 0.0551 - accuracy: 0.9843 - val_loss: 0.7012 - val_accuracy: 0.8261\n",
      "Epoch 19/30\n",
      "625/625 [==============================] - 1s 2ms/step - loss: 0.0574 - accuracy: 0.9828 - val_loss: 0.7481 - val_accuracy: 0.8232\n",
      "Epoch 20/30\n",
      "625/625 [==============================] - 1s 2ms/step - loss: 0.0503 - accuracy: 0.9851 - val_loss: 0.7392 - val_accuracy: 0.8272\n",
      "Epoch 21/30\n",
      "625/625 [==============================] - 1s 2ms/step - loss: 0.0444 - accuracy: 0.9869 - val_loss: 0.7647 - val_accuracy: 0.8264\n",
      "Epoch 22/30\n",
      "625/625 [==============================] - 1s 2ms/step - loss: 0.0467 - accuracy: 0.9864 - val_loss: 0.8164 - val_accuracy: 0.8232\n",
      "Epoch 23/30\n",
      "625/625 [==============================] - 1s 2ms/step - loss: 0.0374 - accuracy: 0.9896 - val_loss: 0.8386 - val_accuracy: 0.8231\n",
      "Epoch 24/30\n",
      "625/625 [==============================] - 1s 2ms/step - loss: 0.0359 - accuracy: 0.9898 - val_loss: 0.8819 - val_accuracy: 0.8208\n",
      "Epoch 25/30\n",
      "625/625 [==============================] - ETA: 0s - loss: 0.0297 - accuracy: 0.99 - 1s 2ms/step - loss: 0.0299 - accuracy: 0.9915 - val_loss: 0.9469 - val_accuracy: 0.8189\n",
      "Epoch 26/30\n",
      "625/625 [==============================] - 1s 2ms/step - loss: 0.0284 - accuracy: 0.9927 - val_loss: 0.9763 - val_accuracy: 0.8161\n",
      "Epoch 27/30\n",
      "625/625 [==============================] - 1s 2ms/step - loss: 0.0242 - accuracy: 0.9927 - val_loss: 0.9914 - val_accuracy: 0.8180\n",
      "Epoch 28/30\n",
      "625/625 [==============================] - 1s 2ms/step - loss: 0.0216 - accuracy: 0.9944 - val_loss: 1.0463 - val_accuracy: 0.8170\n",
      "Epoch 29/30\n",
      "625/625 [==============================] - 1s 2ms/step - loss: 0.0236 - accuracy: 0.9934 - val_loss: 1.0643 - val_accuracy: 0.8129\n",
      "Epoch 30/30\n",
      "625/625 [==============================] - 1s 2ms/step - loss: 0.0193 - accuracy: 0.9951 - val_loss: 1.1123 - val_accuracy: 0.8162\n"
     ]
    }
   ],
   "source": [
    "epochs = 30\n",
    "history = model.fit(x = training_data_padded, y = training_labels, epochs = epochs, validation_data = (testing_data_padded, testing_labels))"
   ]
  },
  {
   "cell_type": "markdown",
   "id": "double-attitude",
   "metadata": {},
   "source": [
    "## Display training graph"
   ]
  },
  {
   "cell_type": "code",
   "execution_count": 73,
   "id": "photographic-ozone",
   "metadata": {},
   "outputs": [
    {
     "data": {
      "image/png": "[encoded data removed]",
      "text/plain": [
       "<Figure size 432x288 with 1 Axes>"
      ]
     },
     "metadata": {
      "needs_background": "light"
     },
     "output_type": "display_data"
    },
    {
     "data": {
      "image/png": "[encoded data removed]",
      "text/plain": [
       "<Figure size 432x288 with 1 Axes>"
      ]
     },
     "metadata": {
      "needs_background": "light"
     },
     "output_type": "display_data"
    }
   ],
   "source": [
    "def plot(history, metric):\n",
    "    plt.plot([i for i in range(epochs)], history.history[metric], label = metric)\n",
    "    plt.plot([i for i in range(epochs)], history.history['val_' + metric], label = 'Validation ' + metric)\n",
    "    plt.xlabel('Epochs')\n",
    "    plt.ylabel(metric)\n",
    "    plt.legend()\n",
    "    plt.show()\n",
    "    \n",
    "plot(history, 'loss')\n",
    "plot(history, 'accuracy')"
   ]
  },
  {
   "cell_type": "markdown",
   "id": "sealed-slide",
   "metadata": {},
   "source": [
    "## Make a prediction"
   ]
  },
  {
   "cell_type": "code",
   "execution_count": null,
   "id": "polyphonic-giant",
   "metadata": {},
   "outputs": [],
   "source": [
    "sentence = [\"granny starting to fear spiders in the garden might be real\", \"game of thrones season finale showing this sunday night\"]\n",
    "sequences = tokenizer.texts_to_sequences(sentence)\n",
    "padded = pad_sequences(sequences, maxlen=max_length, padding=padding_type, truncating=trunc_type)\n",
    "print(model.predict(padded))"
   ]
  },
  {
   "cell_type": "code",
   "execution_count": null,
   "id": "frozen-arnold",
   "metadata": {},
   "outputs": [],
   "source": []
  },
  {
   "cell_type": "code",
   "execution_count": null,
   "id": "written-carpet",
   "metadata": {},
   "outputs": [],
   "source": []
  },
  {
   "cell_type": "code",
   "execution_count": null,
   "id": "grand-dating",
   "metadata": {},
   "outputs": [],
   "source": []
  }
 ],
 "metadata": {
  "kernelspec": {
   "display_name": "Python 3",
   "language": "python",
   "name": "python3"
  },
  "language_info": {
   "codemirror_mode": {
    "name": "ipython",
    "version": 3
   },
   "file_extension": ".py",
   "mimetype": "text/x-python",
   "name": "python",
   "nbconvert_exporter": "python",
   "pygments_lexer": "ipython3",
   "version": "3.8.7"
  },
  "toc-autonumbering": true
 },
 "nbformat": 4,
 "nbformat_minor": 5
}
